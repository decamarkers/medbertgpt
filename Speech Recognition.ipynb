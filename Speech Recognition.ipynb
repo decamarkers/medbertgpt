{
 "cells": [
  {
   "cell_type": "code",
   "execution_count": null,
   "id": "5930e921",
   "metadata": {},
   "outputs": [],
   "source": [
    "# !pip install PyAudio\n",
    "# !pip install pocketsphinx\n",
    "# !pip install SpeechRecognition"
   ]
  },
  {
   "cell_type": "code",
   "execution_count": 2,
   "id": "e364db94",
   "metadata": {},
   "outputs": [
    {
     "name": "stdout",
     "output_type": "stream",
     "text": [
      "Say something!\n",
      "Whisper thinks you said:  Hello, hello, okay\n"
     ]
    }
   ],
   "source": [
    "import speech_recognition as sr\n",
    "\n",
    "# obtain audio from the microphone\n",
    "r = sr.Recognizer()\n",
    "with sr.Microphone() as source:\n",
    "    print(\"Say something!\")\n",
    "    audio = r.listen(source)\n",
    "\n",
    "# # recognize speech using Sphinx\n",
    "# try:\n",
    "#     print(\"Sphinx thinks you said \" + r.recognize_sphinx(audio_data=audio, language=\"en-US\"))\n",
    "# except sr.UnknownValueError:\n",
    "#     print(\"Sphinx could not understand audio\")\n",
    "# except sr.RequestError as e:\n",
    "#     print(\"Sphinx error; {0}\".format(e))\n",
    "    \n",
    "# recognize speech using whisper\n",
    "try:\n",
    "    print(\"Whisper thinks you said: \" + r.recognize_whisper(audio, language=\"english\"))\n",
    "except sr.UnknownValueError:\n",
    "    print(\"Whisper could not understand audio\")\n",
    "except sr.RequestError as e:\n",
    "    print(\"Could not request results from Whisper\")"
   ]
  },
  {
   "cell_type": "code",
   "execution_count": null,
   "id": "ae100938",
   "metadata": {},
   "outputs": [],
   "source": [
    "# !pip install torch==1.10.1\n",
    "# install ffmpeg"
   ]
  },
  {
   "cell_type": "code",
   "execution_count": 5,
   "id": "129347f8",
   "metadata": {},
   "outputs": [
    {
     "name": "stdout",
     "output_type": "stream",
     "text": [
      "Detected language: en\n",
      "I have a fever, cough, salt throat and runny nose. I also occasionally have headaches and fatigue.\n"
     ]
    }
   ],
   "source": [
    "import whisper\n",
    "\n",
    "model = whisper.load_model(\"base\")\n",
    "\n",
    "# load audio and pad/trim it to fit 30 seconds\n",
    "audio = whisper.load_audio(\"C:\\\\Users\\\\edcyh\\\\OneDrive\\\\Documents\\\\Sound Recordings\\\\flu symptoms.m4a\")\n",
    "audio = whisper.pad_or_trim(audio)\n",
    "\n",
    "# make log-Mel spectrogram and move to the same device as the model\n",
    "mel = whisper.log_mel_spectrogram(audio).to(model.device)\n",
    "\n",
    "\n",
    "# detect the spoken language\n",
    "_, probs = model.detect_language(mel)\n",
    "print(f\"Detected language: {max(probs, key=probs.get)}\")\n",
    "\n",
    "# decode the audio\n",
    "options = whisper.DecodingOptions(fp16 = False)\n",
    "result = whisper.decode(model, mel, options)\n",
    "\n",
    "# print the recognized text\n",
    "print(result.text)"
   ]
  },
  {
   "cell_type": "code",
   "execution_count": null,
   "id": "4c809f3d",
   "metadata": {},
   "outputs": [],
   "source": []
  }
 ],
 "metadata": {
  "kernelspec": {
   "display_name": "Python 3 (ipykernel)",
   "language": "python",
   "name": "python3"
  },
  "language_info": {
   "codemirror_mode": {
    "name": "ipython",
    "version": 3
   },
   "file_extension": ".py",
   "mimetype": "text/x-python",
   "name": "python",
   "nbconvert_exporter": "python",
   "pygments_lexer": "ipython3",
   "version": "3.11.4"
  }
 },
 "nbformat": 4,
 "nbformat_minor": 5
}
